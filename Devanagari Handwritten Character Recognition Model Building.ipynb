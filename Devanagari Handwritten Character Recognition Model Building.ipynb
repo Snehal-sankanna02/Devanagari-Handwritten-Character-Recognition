{
 "cells": [
  {
   "cell_type": "markdown",
   "id": "26749067",
   "metadata": {},
   "source": [
    "# Devanagari Handwritten Character Recognition using CNN"
   ]
  },
  {
   "cell_type": "markdown",
   "id": "fd624070",
   "metadata": {},
   "source": [
    "Steps of model building:\n",
    "\n",
    "1. Imported the necessary libraries for model building.\n",
    "2. Defined the architecture of the model- There are 4 convolutional layers, 2 maxpooling layers, 1 dense layer, and output layer. \n",
    "Relu activation function is used for all layers except for output layer. Softmax activation function is used for output layer \n",
    "as it is multiclass classification.\n",
    "3. In order to compile the model adam optimizer is used as it is efficient when working with large data and requires less memory. \n",
    "Loss is calculated by using categorical crossentropy as there are more than two classes and accuracy metric is used to check \n",
    "the performance of model.\n",
    "4. The data of about 92,000 is imported. There are 46 classes and each class has 1700 images in it.\n",
    "Preprocessing of data is performed using ImageDataGenerator module. It tilt, rotate, rescale the image and transform the images. Here, images are transformed to 32*32 size and batch size is 256, so 256 images will go through network before the weights are updated.\n",
    "5. Model is fitted to the training and testing data. Epoch size is 10 and batch size is 80. Intially epoch size used was 5, 7. But those were giving wrong predictions for single image. So, to improve accuracy tried with 20 epochs but the anaconda was not responding. Therefore, submitting the file for 10 epochs.\n",
    "6. Then model is summarized, evaluated and saved. There is no overfitting of model as training and testing accuracy is almost close to each other.\n",
    "7. At last the graphical user inteface is created by using tkinter library which will give prediction for single image.\n",
    "\n",
    "Data Link- https://www.kaggle.com/ashokpant/devanagari-character-dataset-large\n",
    "\n",
    "Things which are unique-\n",
    "1. Most of the people have performed digit recognition system and who has performed the character as well digit have used very complex model. I have tried to make it simple.\n",
    "2. Tried by changing hyperparameters.\n",
    "3. People have created GUI by using Flask, pickle. Here, it is created by using tkinter library.\n",
    "4. Also tried with creating own data and predicting for it. But, there are errors in reading the image so, trying to improve the model for predicting correctly for any image."
   ]
  },
  {
   "cell_type": "markdown",
   "id": "136911b0",
   "metadata": {},
   "source": [
    "# Import the libraries"
   ]
  },
  {
   "cell_type": "code",
   "execution_count": null,
   "id": "fa909cb0",
   "metadata": {},
   "outputs": [],
   "source": [
    "#Keras Imports - CNN\n",
    "#Deals with ordering of layers within a model\n",
    "from keras.models import Sequential\n",
    "#Define the architecture of model\n",
    "from keras.layers import Conv2D, MaxPooling2D, Flatten, Dense, Dropout\n",
    "#To load the trained model\n",
    "from keras.models import load_model\n",
    "#To transform the original data\n",
    "from keras.preprocessing.image import ImageDataGenerator\n",
    "#To import image and preprocess\n",
    "from tensorflow.keras.preprocessing import image\n",
    "from tensorflow.keras.utils import load_img\n",
    "#To perform image processing\n",
    "from PIL import ImageFile\n",
    "# Visualisation imports\n",
    "import numpy as np\n",
    "import matplotlib.pyplot as plt\n"
   ]
  },
  {
   "cell_type": "markdown",
   "id": "92947906",
   "metadata": {},
   "source": [
    "# Architecture of CNN model "
   ]
  },
  {
   "cell_type": "code",
   "execution_count": 2,
   "id": "6e63998d",
   "metadata": {},
   "outputs": [],
   "source": [
    "#To initialize the model\n",
    "classifier = Sequential()\n",
    "#Addition of first convolution layer-detect the image boundaries.\n",
    "classifier.add(Conv2D(filters = 32, kernel_size = (3, 3), activation = 'relu', input_shape = (32, 32, 3)))\n",
    "#Addition of second convolution layer\n",
    "classifier.add(Conv2D(filters = 64, kernel_size = (3, 3), activation = 'relu'))\n",
    "#Addition of first maxpooling layer-To reduce the size of array and compress it.\n",
    "classifier.add(MaxPooling2D(pool_size = (2, 2)))\n",
    "#Addition of third convolution layer\n",
    "classifier.add(Conv2D(filters = 64, kernel_size = (3, 3), activation = 'relu'))\n",
    "#Addition of fourth convolution layer\n",
    "classifier.add(Conv2D(filters = 64, kernel_size = (3, 3), activation = 'relu'))\n",
    "#Addition of second maxpooling layer\n",
    "classifier.add(MaxPooling2D(pool_size = (2, 2)))\n",
    "#To drop random images from data and fit the modelto avoid overfitting\n",
    "classifier.add(Dropout(.2))\n",
    "#To flatten the input shape\n",
    "classifier.add(Flatten())\n",
    "#To add fully connected layer- units is the shape of output layer\n",
    "classifier.add(Dense(units = 128, activation = 'relu'))\n",
    "classifier.add(Dropout(.2))\n",
    "#Output layer of model- units are 46 because there are 46 classes\n",
    "classifier.add(Dense(units = 46, activation = 'softmax'))\n",
    "#To compile the defined model\n",
    "classifier.compile(optimizer = 'adam', loss = 'categorical_crossentropy', metrics = ['accuracy'])"
   ]
  },
  {
   "cell_type": "markdown",
   "id": "f6db614c",
   "metadata": {},
   "source": [
    "# Preprocessing of images "
   ]
  },
  {
   "cell_type": "code",
   "execution_count": 3,
   "id": "82b3158c",
   "metadata": {},
   "outputs": [
    {
     "name": "stdout",
     "output_type": "stream",
     "text": [
      "Found 78200 images belonging to 46 classes.\n",
      "Found 13800 images belonging to 46 classes.\n"
     ]
    }
   ],
   "source": [
    "ImageFile.LOAD_TRUNCATED_IMAGES = True\n",
    "#To avoid overfitting\n",
    "train_datagen = ImageDataGenerator(rescale = 1/255, shear_range = .2, rotation_range = 25)\n",
    "test_datagen = ImageDataGenerator(rescale = 1/255)\n",
    "#To read the data\n",
    "training_set = train_datagen.flow_from_directory(\"C:\\\\Users\\\\Snehal Sankanna\\\\Downloads\\\\DevanagariHandwrittenCharacterDataset\\\\DevanagariHandwrittenCharacterDataset\\\\Train\", target_size = (32, 32), \n",
    "                                                 batch_size = 256, class_mode = 'categorical')\n",
    "test_set = test_datagen.flow_from_directory(\"C:\\\\Users\\\\Snehal Sankanna\\\\Downloads\\\\DevanagariHandwrittenCharacterDataset\\\\DevanagariHandwrittenCharacterDataset\\\\Test\", target_size = (32, 32), \n",
    "                                                 batch_size = 256, class_mode = 'categorical')"
   ]
  },
  {
   "cell_type": "markdown",
   "id": "e34ace2e",
   "metadata": {},
   "source": [
    "# Fitting of Model"
   ]
  },
  {
   "cell_type": "code",
   "execution_count": 4,
   "id": "4b4897a0",
   "metadata": {},
   "outputs": [
    {
     "name": "stdout",
     "output_type": "stream",
     "text": [
      "Epoch 1/10\n",
      "306/306 [==============================] - 1127s 4s/step - loss: 1.3138 - accuracy: 0.6354 - val_loss: 0.2352 - val_accuracy: 0.9287\n",
      "Epoch 2/10\n",
      "306/306 [==============================] - 891s 3s/step - loss: 0.4057 - accuracy: 0.8765 - val_loss: 0.1324 - val_accuracy: 0.9614\n",
      "Epoch 3/10\n",
      "306/306 [==============================] - 702s 2s/step - loss: 0.2691 - accuracy: 0.9175 - val_loss: 0.0901 - val_accuracy: 0.9736\n",
      "Epoch 4/10\n",
      "306/306 [==============================] - 725s 2s/step - loss: 0.2073 - accuracy: 0.9361 - val_loss: 0.0774 - val_accuracy: 0.9775\n",
      "Epoch 5/10\n",
      "306/306 [==============================] - 729s 2s/step - loss: 0.1725 - accuracy: 0.9463 - val_loss: 0.0618 - val_accuracy: 0.9830\n",
      "Epoch 6/10\n",
      "306/306 [==============================] - 748s 2s/step - loss: 0.1523 - accuracy: 0.9527 - val_loss: 0.0577 - val_accuracy: 0.9836\n",
      "Epoch 7/10\n",
      "306/306 [==============================] - 906s 3s/step - loss: 0.1334 - accuracy: 0.9580 - val_loss: 0.0541 - val_accuracy: 0.9849\n",
      "Epoch 8/10\n",
      "306/306 [==============================] - 776s 3s/step - loss: 0.1192 - accuracy: 0.9624 - val_loss: 0.0477 - val_accuracy: 0.9867\n",
      "Epoch 9/10\n",
      "306/306 [==============================] - 689s 2s/step - loss: 0.1081 - accuracy: 0.9654 - val_loss: 0.0488 - val_accuracy: 0.9864\n",
      "Epoch 10/10\n",
      "306/306 [==============================] - 709s 2s/step - loss: 0.0972 - accuracy: 0.9691 - val_loss: 0.0474 - val_accuracy: 0.9868\n"
     ]
    }
   ],
   "source": [
    "#Fitting the cnn model to the dataset\n",
    "history = classifier.fit(training_set, epochs = 10, batch_size=80,\n",
    "                        validation_data = test_set)"
   ]
  },
  {
   "cell_type": "markdown",
   "id": "28eb52ef",
   "metadata": {},
   "source": [
    "# Print the summary of the model"
   ]
  },
  {
   "cell_type": "code",
   "execution_count": 5,
   "id": "a5efbf5b",
   "metadata": {},
   "outputs": [
    {
     "name": "stdout",
     "output_type": "stream",
     "text": [
      "Model: \"sequential\"\n",
      "_________________________________________________________________\n",
      " Layer (type)                Output Shape              Param #   \n",
      "=================================================================\n",
      " conv2d (Conv2D)             (None, 30, 30, 32)        896       \n",
      "                                                                 \n",
      " conv2d_1 (Conv2D)           (None, 28, 28, 64)        18496     \n",
      "                                                                 \n",
      " max_pooling2d (MaxPooling2D  (None, 14, 14, 64)       0         \n",
      " )                                                               \n",
      "                                                                 \n",
      " conv2d_2 (Conv2D)           (None, 12, 12, 64)        36928     \n",
      "                                                                 \n",
      " conv2d_3 (Conv2D)           (None, 10, 10, 64)        36928     \n",
      "                                                                 \n",
      " max_pooling2d_1 (MaxPooling  (None, 5, 5, 64)         0         \n",
      " 2D)                                                             \n",
      "                                                                 \n",
      " dropout (Dropout)           (None, 5, 5, 64)          0         \n",
      "                                                                 \n",
      " flatten (Flatten)           (None, 1600)              0         \n",
      "                                                                 \n",
      " dense (Dense)               (None, 128)               204928    \n",
      "                                                                 \n",
      " dropout_1 (Dropout)         (None, 128)               0         \n",
      "                                                                 \n",
      " dense_1 (Dense)             (None, 46)                5934      \n",
      "                                                                 \n",
      "=================================================================\n",
      "Total params: 304,110\n",
      "Trainable params: 304,110\n",
      "Non-trainable params: 0\n",
      "_________________________________________________________________\n"
     ]
    }
   ],
   "source": [
    "classifier.summary()"
   ]
  },
  {
   "cell_type": "markdown",
   "id": "b58e465e",
   "metadata": {},
   "source": [
    "# Evaluating the model"
   ]
  },
  {
   "cell_type": "code",
   "execution_count": 6,
   "id": "8ee863a8",
   "metadata": {},
   "outputs": [
    {
     "name": "stdout",
     "output_type": "stream",
     "text": [
      "306/306 [==============================] - 514s 2s/step - loss: 0.0388 - accuracy: 0.9879\n",
      "Accuracy: 98.79%\n"
     ]
    }
   ],
   "source": [
    "#Evaluation for training set\n",
    "scores = classifier.evaluate(training_set)\n",
    "print(\"Accuracy: %.2f%%\" % (scores[1]*100))"
   ]
  },
  {
   "cell_type": "code",
   "execution_count": 7,
   "id": "4e737c14",
   "metadata": {},
   "outputs": [
    {
     "name": "stdout",
     "output_type": "stream",
     "text": [
      "54/54 [==============================] - 192s 4s/step - loss: 0.0474 - accuracy: 0.9868\n",
      "Accuracy: 98.68%\n"
     ]
    }
   ],
   "source": [
    "#Evaluation for testing set\n",
    "scores = classifier.evaluate(test_set)\n",
    "print(\"Accuracy: %.2f%%\" % (scores[1]*100))"
   ]
  },
  {
   "cell_type": "code",
   "execution_count": 8,
   "id": "83614cfc",
   "metadata": {},
   "outputs": [
    {
     "data": {
      "image/png": "[encoded data removed]",
      "text/plain": [
       "<Figure size 432x288 with 1 Axes>"
      ]
     },
     "metadata": {
      "needs_background": "light"
     },
     "output_type": "display_data"
    }
   ],
   "source": [
    "# summarize history for accuracy\n",
    "plt.plot(history.history['accuracy'])\n",
    "plt.plot(history.history['val_accuracy'])\n",
    "plt.title('model accuracy')\n",
    "plt.ylabel('accuracy')\n",
    "plt.xlabel('epoch')\n",
    "plt.legend(['train', 'test'], loc='upper left')\n",
    "plt.show()\n"
   ]
  },
  {
   "cell_type": "code",
   "execution_count": 9,
   "id": "364451c6",
   "metadata": {},
   "outputs": [
    {
     "data": {
      "image/png": "[encoded data removed]",
      "text/plain": [
       "<Figure size 432x288 with 1 Axes>"
      ]
     },
     "metadata": {
      "needs_background": "light"
     },
     "output_type": "display_data"
    }
   ],
   "source": [
    "# summarize history for loss\n",
    "plt.plot(history.history['loss'])\n",
    "plt.plot(history.history['val_loss'])\n",
    "plt.title('model loss')\n",
    "plt.ylabel('loss')\n",
    "plt.xlabel('epoch')\n",
    "plt.legend(['train', 'test'], loc='upper left')\n",
    "plt.show()"
   ]
  },
  {
   "cell_type": "markdown",
   "id": "5d439c47",
   "metadata": {},
   "source": [
    "# Saving the model"
   ]
  },
  {
   "cell_type": "code",
   "execution_count": 11,
   "id": "24900e58",
   "metadata": {},
   "outputs": [
    {
     "name": "stdout",
     "output_type": "stream",
     "text": [
      "Saved model to disk\n"
     ]
    }
   ],
   "source": [
    "classifier_json = classifier.to_json()\n",
    "\n",
    "with open(\"CNN_DevanagariHandWrittenCharacterRecognition.json\", \"w\") as json_file:\n",
    "    json_file.write(classifier_json)\n",
    "    \n",
    "classifier.save_weights(\"DHCR\")\n",
    "print('Saved model to disk')"
   ]
  },
  {
   "cell_type": "code",
   "execution_count": 12,
   "id": "86354e58",
   "metadata": {},
   "outputs": [
    {
     "data": {
      "text/plain": [
       "{'character_10_yna': 0,\n",
       " 'character_11_taamatar': 1,\n",
       " 'character_12_thaa': 2,\n",
       " 'character_13_daa': 3,\n",
       " 'character_14_dhaa': 4,\n",
       " 'character_15_adna': 5,\n",
       " 'character_16_tabala': 6,\n",
       " 'character_17_tha': 7,\n",
       " 'character_18_da': 8,\n",
       " 'character_19_dha': 9,\n",
       " 'character_1_ka': 10,\n",
       " 'character_20_na': 11,\n",
       " 'character_21_pa': 12,\n",
       " 'character_22_pha': 13,\n",
       " 'character_23_ba': 14,\n",
       " 'character_24_bha': 15,\n",
       " 'character_25_ma': 16,\n",
       " 'character_26_yaw': 17,\n",
       " 'character_27_ra': 18,\n",
       " 'character_28_la': 19,\n",
       " 'character_29_waw': 20,\n",
       " 'character_2_kha': 21,\n",
       " 'character_30_motosaw': 22,\n",
       " 'character_31_petchiryakha': 23,\n",
       " 'character_32_patalosaw': 24,\n",
       " 'character_33_ha': 25,\n",
       " 'character_34_chhya': 26,\n",
       " 'character_35_tra': 27,\n",
       " 'character_36_gya': 28,\n",
       " 'character_3_ga': 29,\n",
       " 'character_4_gha': 30,\n",
       " 'character_5_kna': 31,\n",
       " 'character_6_cha': 32,\n",
       " 'character_7_chha': 33,\n",
       " 'character_8_ja': 34,\n",
       " 'character_9_jha': 35,\n",
       " 'digit_0': 36,\n",
       " 'digit_1': 37,\n",
       " 'digit_2': 38,\n",
       " 'digit_3': 39,\n",
       " 'digit_4': 40,\n",
       " 'digit_5': 41,\n",
       " 'digit_6': 42,\n",
       " 'digit_7': 43,\n",
       " 'digit_8': 44,\n",
       " 'digit_9': 45}"
      ]
     },
     "execution_count": 12,
     "metadata": {},
     "output_type": "execute_result"
    }
   ],
   "source": [
    "#To check the labels of the images in the training dataset\n",
    "training_set.class_indices"
   ]
  },
  {
   "cell_type": "code",
   "execution_count": null,
   "id": "140a63b9",
   "metadata": {},
   "outputs": [],
   "source": []
  }
 ],
 "metadata": {
  "kernelspec": {
   "display_name": "Python 3 (ipykernel)",
   "language": "python",
   "name": "python3"
  },
  "language_info": {
   "codemirror_mode": {
    "name": "ipython",
    "version": 3
   },
   "file_extension": ".py",
   "mimetype": "text/x-python",
   "name": "python",
   "nbconvert_exporter": "python",
   "pygments_lexer": "ipython3",
   "version": "3.8.12"
  }
 },
 "nbformat": 4,
 "nbformat_minor": 5
}
